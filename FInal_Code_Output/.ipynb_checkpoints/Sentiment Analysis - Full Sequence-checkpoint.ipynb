{
 "cells": [
  {
   "cell_type": "code",
   "execution_count": 1,
   "id": "89b00ffb",
   "metadata": {},
   "outputs": [
    {
     "name": "stderr",
     "output_type": "stream",
     "text": [
      "[nltk_data] Downloading package wordnet to\n",
      "[nltk_data]     C:\\Users\\devio\\AppData\\Roaming\\nltk_data...\n",
      "[nltk_data]   Package wordnet is already up-to-date!\n",
      "[nltk_data] Downloading package punkt to\n",
      "[nltk_data]     C:\\Users\\devio\\AppData\\Roaming\\nltk_data...\n",
      "[nltk_data]   Package punkt is already up-to-date!\n",
      "[nltk_data] Downloading package averaged_perceptron_tagger to\n",
      "[nltk_data]     C:\\Users\\devio\\AppData\\Roaming\\nltk_data...\n",
      "[nltk_data]   Package averaged_perceptron_tagger is already up-to-\n",
      "[nltk_data]       date!\n",
      "[nltk_data] Downloading package maxent_ne_chunker to\n",
      "[nltk_data]     C:\\Users\\devio\\AppData\\Roaming\\nltk_data...\n",
      "[nltk_data]   Package maxent_ne_chunker is already up-to-date!\n",
      "[nltk_data] Downloading package words to\n",
      "[nltk_data]     C:\\Users\\devio\\AppData\\Roaming\\nltk_data...\n",
      "[nltk_data]   Package words is already up-to-date!\n",
      "[nltk_data] Downloading package vader_lexicon to\n",
      "[nltk_data]     C:\\Users\\devio\\AppData\\Roaming\\nltk_data...\n",
      "[nltk_data]   Package vader_lexicon is already up-to-date!\n",
      "[nltk_data] Downloading package stopwords to\n",
      "[nltk_data]     C:\\Users\\devio\\AppData\\Roaming\\nltk_data...\n",
      "[nltk_data]   Package stopwords is already up-to-date!\n"
     ]
    }
   ],
   "source": [
    "import nltk\n",
    "nltk.download('wordnet')\n",
    "nltk.download('punkt')\n",
    "nltk.download('averaged_perceptron_tagger')\n",
    "nltk.download('maxent_ne_chunker')\n",
    "nltk.download('words')\n",
    "nltk.download('vader_lexicon')\n",
    "nltk.download('stopwords')\n",
    "\n",
    "import pandas as pd\n",
    "import numpy as np\n",
    "import matplotlib.pyplot as plt\n",
    "import seaborn as sns\n",
    "import re\n",
    "import csv\n",
    "\n",
    "from sklearn.naive_bayes import MultinomialNB\n",
    "from sklearn.model_selection import train_test_split\n",
    "from sklearn.pipeline import Pipeline\n",
    "from sklearn.metrics import confusion_matrix, classification_report,accuracy_score\n",
    "from sklearn.decomposition import LatentDirichletAllocation\n",
    "from sklearn.feature_extraction.text import CountVectorizer\n",
    "from nltk.corpus import stopwords\n",
    "from nltk.stem.wordnet import WordNetLemmatizer\n",
    "from nltk.sentiment import SentimentIntensityAnalyzer\n",
    "from nltk.tokenize import word_tokenize\n",
    "from transformers import AutoTokenizer\n",
    "from transformers import AutoModelForSequenceClassification\n",
    "from sklearn.feature_extraction.text import CountVectorizer, TfidfTransformer\n",
    "from sklearn.feature_extraction.text import CountVectorizer\n",
    "from tqdm.notebook import tqdm\n",
    "from textblob import TextBlob\n",
    "from scipy.special import softmax\n",
    "\n",
    "\n",
    "plt.style.use('ggplot')\n"
   ]
  },
  {
   "cell_type": "code",
   "execution_count": 2,
   "id": "b4396f95",
   "metadata": {},
   "outputs": [],
   "source": [
    "# Read in data\n",
    "file_name = 'PhoenixSub'\n",
    "working_file_name = file_name + \".csv\"\n",
    "\n",
    "df = pd.read_csv(working_file_name)\n"
   ]
  },
  {
   "cell_type": "code",
   "execution_count": 3,
   "id": "1c045db2",
   "metadata": {
    "scrolled": false
   },
   "outputs": [
    {
     "data": {
      "text/html": [
       "<div>\n",
       "<style scoped>\n",
       "    .dataframe tbody tr th:only-of-type {\n",
       "        vertical-align: middle;\n",
       "    }\n",
       "\n",
       "    .dataframe tbody tr th {\n",
       "        vertical-align: top;\n",
       "    }\n",
       "\n",
       "    .dataframe thead th {\n",
       "        text-align: right;\n",
       "    }\n",
       "</style>\n",
       "<table border=\"1\" class=\"dataframe\">\n",
       "  <thead>\n",
       "    <tr style=\"text-align: right;\">\n",
       "      <th></th>\n",
       "      <th>MsgID</th>\n",
       "      <th>Timestamp</th>\n",
       "      <th>Author</th>\n",
       "      <th>ThreadID</th>\n",
       "      <th>ThreadTitle</th>\n",
       "      <th>MsgBody</th>\n",
       "      <th>ReplyTo</th>\n",
       "      <th>Permalink</th>\n",
       "    </tr>\n",
       "  </thead>\n",
       "  <tbody>\n",
       "    <tr>\n",
       "      <th>0</th>\n",
       "      <td>'kvizqlx'</td>\n",
       "      <td>'2024-03-18 19:57:27'</td>\n",
       "      <td>'MrBigglesworth2121'</td>\n",
       "      <td>'1bgnsnl'</td>\n",
       "      <td>'Recommendations for ICL Surgeons'</td>\n",
       "      <td>'I did yeah. I was slightly worried about bein...</td>\n",
       "      <td>'kviyo01'</td>\n",
       "      <td>'/r/phoenix/comments/1bgnsnl/recommendations_f...</td>\n",
       "    </tr>\n",
       "    <tr>\n",
       "      <th>1</th>\n",
       "      <td>'kvizxfy'</td>\n",
       "      <td>'2024-03-18 19:58:50'</td>\n",
       "      <td>'AdInside8709'</td>\n",
       "      <td>'162enug'</td>\n",
       "      <td>'Anyone see the glowing light in the sky at ar...</td>\n",
       "      <td>'It was!  Watched the whole thing'</td>\n",
       "      <td>'kvixxxr'</td>\n",
       "      <td>'/r/phoenix/comments/162enug/anyone_see_the_gl...</td>\n",
       "    </tr>\n",
       "    <tr>\n",
       "      <th>2</th>\n",
       "      <td>'kvizxqg'</td>\n",
       "      <td>'2024-03-18 19:58:53'</td>\n",
       "      <td>'NotJohnElway'</td>\n",
       "      <td>'1bi8sie'</td>\n",
       "      <td>'SpaceX launch at 7:28 p.m. could make for goo...</td>\n",
       "      <td>'https://preview.redd.it/oxgi182ph7pc1.jpeg?wi...</td>\n",
       "      <td>'-'</td>\n",
       "      <td>'/r/phoenix/comments/1bi8sie/spacex_launch_at_...</td>\n",
       "    </tr>\n",
       "    <tr>\n",
       "      <th>3</th>\n",
       "      <td>'kvizz4g'</td>\n",
       "      <td>'2024-03-18 19:59:10'</td>\n",
       "      <td>'AutoModerator'</td>\n",
       "      <td>'1bia3ol'</td>\n",
       "      <td>'Sun City e-billboard. Free strippers for Seni...</td>\n",
       "      <td>'Thanks for contributing to r/Phoenix!   * [Ch...</td>\n",
       "      <td>'-'</td>\n",
       "      <td>'/r/phoenix/comments/1bia3ol/sun_city_ebillboa...</td>\n",
       "    </tr>\n",
       "    <tr>\n",
       "      <th>4</th>\n",
       "      <td>'kvizzc1'</td>\n",
       "      <td>'2024-03-18 19:59:12'</td>\n",
       "      <td>'Lakers780'</td>\n",
       "      <td>'1bht2ce'</td>\n",
       "      <td>'What does your household do for water? Brita?...</td>\n",
       "      <td>'Water bottles.'</td>\n",
       "      <td>'-'</td>\n",
       "      <td>'/r/phoenix/comments/1bht2ce/what_does_your_ho...</td>\n",
       "    </tr>\n",
       "  </tbody>\n",
       "</table>\n",
       "</div>"
      ],
      "text/plain": [
       "       MsgID              Timestamp                Author   ThreadID  \\\n",
       "0  'kvizqlx'  '2024-03-18 19:57:27'  'MrBigglesworth2121'  '1bgnsnl'   \n",
       "1  'kvizxfy'  '2024-03-18 19:58:50'        'AdInside8709'  '162enug'   \n",
       "2  'kvizxqg'  '2024-03-18 19:58:53'        'NotJohnElway'  '1bi8sie'   \n",
       "3  'kvizz4g'  '2024-03-18 19:59:10'       'AutoModerator'  '1bia3ol'   \n",
       "4  'kvizzc1'  '2024-03-18 19:59:12'           'Lakers780'  '1bht2ce'   \n",
       "\n",
       "                                         ThreadTitle  \\\n",
       "0                 'Recommendations for ICL Surgeons'   \n",
       "1  'Anyone see the glowing light in the sky at ar...   \n",
       "2  'SpaceX launch at 7:28 p.m. could make for goo...   \n",
       "3  'Sun City e-billboard. Free strippers for Seni...   \n",
       "4  'What does your household do for water? Brita?...   \n",
       "\n",
       "                                             MsgBody    ReplyTo  \\\n",
       "0  'I did yeah. I was slightly worried about bein...  'kviyo01'   \n",
       "1                 'It was!  Watched the whole thing'  'kvixxxr'   \n",
       "2  'https://preview.redd.it/oxgi182ph7pc1.jpeg?wi...        '-'   \n",
       "3  'Thanks for contributing to r/Phoenix!   * [Ch...        '-'   \n",
       "4                                   'Water bottles.'        '-'   \n",
       "\n",
       "                                           Permalink  \n",
       "0  '/r/phoenix/comments/1bgnsnl/recommendations_f...  \n",
       "1  '/r/phoenix/comments/162enug/anyone_see_the_gl...  \n",
       "2  '/r/phoenix/comments/1bi8sie/spacex_launch_at_...  \n",
       "3  '/r/phoenix/comments/1bia3ol/sun_city_ebillboa...  \n",
       "4  '/r/phoenix/comments/1bht2ce/what_does_your_ho...  "
      ]
     },
     "execution_count": 3,
     "metadata": {},
     "output_type": "execute_result"
    }
   ],
   "source": [
    "df.head()"
   ]
  },
  {
   "cell_type": "code",
   "execution_count": 4,
   "id": "c62ad30c",
   "metadata": {},
   "outputs": [
    {
     "ename": "KeyError",
     "evalue": "'MsgID'",
     "output_type": "error",
     "traceback": [
      "\u001b[1;31m---------------------------------------------------------------------------\u001b[0m",
      "\u001b[1;31mKeyError\u001b[0m                                  Traceback (most recent call last)",
      "File \u001b[1;32m~\\anaconda3\\Lib\\site-packages\\pandas\\core\\indexes\\base.py:3653\u001b[0m, in \u001b[0;36mIndex.get_loc\u001b[1;34m(self, key)\u001b[0m\n\u001b[0;32m   3652\u001b[0m \u001b[38;5;28;01mtry\u001b[39;00m:\n\u001b[1;32m-> 3653\u001b[0m     \u001b[38;5;28;01mreturn\u001b[39;00m \u001b[38;5;28mself\u001b[39m\u001b[38;5;241m.\u001b[39m_engine\u001b[38;5;241m.\u001b[39mget_loc(casted_key)\n\u001b[0;32m   3654\u001b[0m \u001b[38;5;28;01mexcept\u001b[39;00m \u001b[38;5;167;01mKeyError\u001b[39;00m \u001b[38;5;28;01mas\u001b[39;00m err:\n",
      "File \u001b[1;32m~\\anaconda3\\Lib\\site-packages\\pandas\\_libs\\index.pyx:147\u001b[0m, in \u001b[0;36mpandas._libs.index.IndexEngine.get_loc\u001b[1;34m()\u001b[0m\n",
      "File \u001b[1;32m~\\anaconda3\\Lib\\site-packages\\pandas\\_libs\\index.pyx:176\u001b[0m, in \u001b[0;36mpandas._libs.index.IndexEngine.get_loc\u001b[1;34m()\u001b[0m\n",
      "File \u001b[1;32mpandas\\_libs\\hashtable_class_helper.pxi:7080\u001b[0m, in \u001b[0;36mpandas._libs.hashtable.PyObjectHashTable.get_item\u001b[1;34m()\u001b[0m\n",
      "File \u001b[1;32mpandas\\_libs\\hashtable_class_helper.pxi:7088\u001b[0m, in \u001b[0;36mpandas._libs.hashtable.PyObjectHashTable.get_item\u001b[1;34m()\u001b[0m\n",
      "\u001b[1;31mKeyError\u001b[0m: 'MsgID'",
      "\nThe above exception was the direct cause of the following exception:\n",
      "\u001b[1;31mKeyError\u001b[0m                                  Traceback (most recent call last)",
      "Cell \u001b[1;32mIn[4], line 4\u001b[0m\n\u001b[0;32m      2\u001b[0m input_csv \u001b[38;5;241m=\u001b[39m pd\u001b[38;5;241m.\u001b[39mread_csv(working_file_name, encoding\u001b[38;5;241m=\u001b[39m\u001b[38;5;124m'\u001b[39m\u001b[38;5;124mISO-8859-1\u001b[39m\u001b[38;5;124m'\u001b[39m)\n\u001b[0;32m      3\u001b[0m messages \u001b[38;5;241m=\u001b[39m input_csv[\u001b[38;5;124m'\u001b[39m\u001b[38;5;124mMsgBody\u001b[39m\u001b[38;5;124m'\u001b[39m]\n\u001b[1;32m----> 4\u001b[0m msg_ids \u001b[38;5;241m=\u001b[39m input_csv[\u001b[38;5;124m'\u001b[39m\u001b[38;5;124mMsgID\u001b[39m\u001b[38;5;124m'\u001b[39m]\n",
      "File \u001b[1;32m~\\anaconda3\\Lib\\site-packages\\pandas\\core\\frame.py:3761\u001b[0m, in \u001b[0;36mDataFrame.__getitem__\u001b[1;34m(self, key)\u001b[0m\n\u001b[0;32m   3759\u001b[0m \u001b[38;5;28;01mif\u001b[39;00m \u001b[38;5;28mself\u001b[39m\u001b[38;5;241m.\u001b[39mcolumns\u001b[38;5;241m.\u001b[39mnlevels \u001b[38;5;241m>\u001b[39m \u001b[38;5;241m1\u001b[39m:\n\u001b[0;32m   3760\u001b[0m     \u001b[38;5;28;01mreturn\u001b[39;00m \u001b[38;5;28mself\u001b[39m\u001b[38;5;241m.\u001b[39m_getitem_multilevel(key)\n\u001b[1;32m-> 3761\u001b[0m indexer \u001b[38;5;241m=\u001b[39m \u001b[38;5;28mself\u001b[39m\u001b[38;5;241m.\u001b[39mcolumns\u001b[38;5;241m.\u001b[39mget_loc(key)\n\u001b[0;32m   3762\u001b[0m \u001b[38;5;28;01mif\u001b[39;00m is_integer(indexer):\n\u001b[0;32m   3763\u001b[0m     indexer \u001b[38;5;241m=\u001b[39m [indexer]\n",
      "File \u001b[1;32m~\\anaconda3\\Lib\\site-packages\\pandas\\core\\indexes\\base.py:3655\u001b[0m, in \u001b[0;36mIndex.get_loc\u001b[1;34m(self, key)\u001b[0m\n\u001b[0;32m   3653\u001b[0m     \u001b[38;5;28;01mreturn\u001b[39;00m \u001b[38;5;28mself\u001b[39m\u001b[38;5;241m.\u001b[39m_engine\u001b[38;5;241m.\u001b[39mget_loc(casted_key)\n\u001b[0;32m   3654\u001b[0m \u001b[38;5;28;01mexcept\u001b[39;00m \u001b[38;5;167;01mKeyError\u001b[39;00m \u001b[38;5;28;01mas\u001b[39;00m err:\n\u001b[1;32m-> 3655\u001b[0m     \u001b[38;5;28;01mraise\u001b[39;00m \u001b[38;5;167;01mKeyError\u001b[39;00m(key) \u001b[38;5;28;01mfrom\u001b[39;00m \u001b[38;5;21;01merr\u001b[39;00m\n\u001b[0;32m   3656\u001b[0m \u001b[38;5;28;01mexcept\u001b[39;00m \u001b[38;5;167;01mTypeError\u001b[39;00m:\n\u001b[0;32m   3657\u001b[0m     \u001b[38;5;66;03m# If we have a listlike key, _check_indexing_error will raise\u001b[39;00m\n\u001b[0;32m   3658\u001b[0m     \u001b[38;5;66;03m#  InvalidIndexError. Otherwise we fall through and re-raise\u001b[39;00m\n\u001b[0;32m   3659\u001b[0m     \u001b[38;5;66;03m#  the TypeError.\u001b[39;00m\n\u001b[0;32m   3660\u001b[0m     \u001b[38;5;28mself\u001b[39m\u001b[38;5;241m.\u001b[39m_check_indexing_error(key)\n",
      "\u001b[1;31mKeyError\u001b[0m: 'MsgID'"
     ]
    }
   ],
   "source": [
    "#Preprocess the Text\n",
    "input_csv = pd.read_csv(working_file_name, encoding='ISO-8859-1')\n",
    "messages = input_csv['MsgBody']\n",
    "msg_ids = input_csv['MsgID']"
   ]
  },
  {
   "cell_type": "code",
   "execution_count": null,
   "id": "f657b054",
   "metadata": {},
   "outputs": [],
   "source": [
    "def text_processing(message):\n",
    "    def form_sentence(message):\n",
    "        message_blob = TextBlob(message.lower())  # Convert to 'textblob'\n",
    "        return ' '.join(message_blob.words)\n",
    "    \n",
    "    def no_user_alpha(message):\n",
    "        message_list = [item for item in message.split()]\n",
    "        clean_words = [word for word in message_list if re.match(r'[^\\W\\d]*$', word)]\n",
    "        clean_sentence = ' '.join(clean_words)\n",
    "        clean_mess = [word for word in clean_sentence.split() if word not in stopwords.words('english')]\n",
    "        return clean_mess\n",
    "    \n",
    "    def normalization(message_list):\n",
    "        lem = WordNetLemmatizer()\n",
    "        normalized_message = []\n",
    "        for word in message_list:\n",
    "            normalized_text = lem.lemmatize(word, 'v')\n",
    "            normalized_message.append(normalized_text)\n",
    "        return normalized_message\n",
    "    \n",
    "    return normalization(no_user_alpha(form_sentence(message)))"
   ]
  },
  {
   "cell_type": "code",
   "execution_count": null,
   "id": "f2174c1d",
   "metadata": {},
   "outputs": [],
   "source": [
    "# Run LDA on each of the created csv files.\n",
    "def runLDA(LDA_file_name):\n",
    "    reviews_datasets = pd.read_csv(LDA_file_name)\n",
    "    reviews_datasets = reviews_datasets.head(20000) #The 20,000 number listed as a parameter here is a limitor of how many records you want to analyze. Adjust this number according to the size of your dataset and whether you run into memory limitations\n",
    "    reviews_datasets.dropna() #Drops any records that have a missing value\n",
    "    reviews_datasets['MsgBody'][10]\n",
    "\n",
    "    count_vect = CountVectorizer(max_df=0.8, min_df=2, stop_words='english') #Hyperparameters; max_df = maximum document frequency; min_df = minimum document frequency, stop words = 'english')\n",
    "    doc_term_matrix = count_vect.fit_transform(reviews_datasets['MsgBody'].values.astype('U')) #Create document-term matrix\n",
    "    doc_term_matrix\n",
    "    \n",
    "    LDA = LatentDirichletAllocation(n_components=10, random_state=42) #n_components = number of topics to generate; random_state = a seed to produce reproducible results\n",
    "    #More documentation here: https://scikit-learn.org/stable/modules/generated/sklearn.decomposition.LatentDirichletAllocation.html\n",
    "    LDA.fit(doc_term_matrix)\n",
    "    first_topic = LDA.components_[0]\n",
    "    top_topic_words = first_topic.argsort()[-10:]\n",
    "    \n",
    "#     print(\"Most \\\"Important\\\" words for forming topic distribution\")  \n",
    "#     for i in top_topic_words:\n",
    "#         print(count_vect.get_feature_names_out()[i])\n",
    "\n",
    "\n",
    "#     for i,topic in enumerate(LDA.components_):\n",
    "#         print(f'Top 10 words for topic #{i}:')\n",
    "#         print([count_vect.get_feature_names_out()[i] for i in topic.argsort()[-10:]])\n",
    "#         print('\\n')\n",
    "\n",
    "    topic_values = LDA.transform(doc_term_matrix)\n",
    "    topic_values.shape\n",
    "    \n",
    "    #Print first 5 rows to console inspect data \n",
    "    reviews_datasets.head()\n",
    "    \n",
    "    output_file_name = LDA_file_name.replace('.csv', '') + \"_LDA_output.txt\"\n",
    "    with open(output_file_name, 'w', encoding='utf-8') as f:\n",
    "        # Get the top words from the first topic as \"Most Important\" words\n",
    "        first_topic = LDA.components_[0]\n",
    "        top_topic_words = first_topic.argsort()[-10:]\n",
    "        important_words = [count_vect.get_feature_names_out()[i] for i in top_topic_words]\n",
    "        f.write(\"Most \\\"Important\\\" words for forming topic distribution:\\n\")\n",
    "        f.write(\"\\n\".join(important_words) + \"\\n\\n\")\n",
    "\n",
    "        # Iterate over all topics and print top words for each topic\n",
    "        for i, topic in enumerate(LDA.components_):\n",
    "            f.write(f'Top 10 words for topic #{i}:\\n')\n",
    "            top_words = [count_vect.get_feature_names_out()[index] for index in topic.argsort()[-10:]]\n",
    "            f.write(\"[\\'\" + \"\\', \\'\".join(top_words) + \"\\']\\n\\n\")\n",
    "\n",
    "    print(f'Results written to {output_file_name}')"
   ]
  },
  {
   "cell_type": "code",
   "execution_count": null,
   "id": "fae7dc5e",
   "metadata": {},
   "outputs": [],
   "source": [
    "preprocessed_file = file_name + '_preprocessed_text.csv'\n",
    "with open(preprocessed_file, 'w', newline='', encoding='utf8') as f:\n",
    "    writer = csv.writer(f)\n",
    "    writer.writerow(['MsgID', 'MsgBody'])\n",
    "\n",
    "    for index, row in df.iterrows():\n",
    "        message = row['MsgBody']\n",
    "        if message.strip():  # Check if the message is not just empty spaces\n",
    "            processed_message = text_processing(message)\n",
    "            if processed_message:  # Check if the processed message is not empty\n",
    "                # Join the list of words into a single string and write to file\n",
    "                writer.writerow([row['MsgID'], ' '.join(processed_message)])"
   ]
  },
  {
   "cell_type": "code",
   "execution_count": null,
   "id": "45cd0035",
   "metadata": {},
   "outputs": [],
   "source": [
    "sia = SentimentIntensityAnalyzer()"
   ]
  },
  {
   "cell_type": "code",
   "execution_count": null,
   "id": "2e6d0ad5",
   "metadata": {},
   "outputs": [],
   "source": [
    "df_prepro = pd.read_csv(preprocessed_file)\n",
    "df_prepro.head()"
   ]
  },
  {
   "cell_type": "code",
   "execution_count": null,
   "id": "38f6751a",
   "metadata": {},
   "outputs": [],
   "source": [
    "print(df_prepro.columns)"
   ]
  },
  {
   "cell_type": "code",
   "execution_count": null,
   "id": "7c057a8d",
   "metadata": {},
   "outputs": [],
   "source": [
    "res = {}\n",
    "for i, row in tqdm(df_prepro.iterrows(), total=len(df_prepro)):\n",
    "    myid = row['MsgID']\n",
    "    text = row['MsgBody']\n",
    "    \n",
    "    res[myid] = sia.polarity_scores(text)"
   ]
  },
  {
   "cell_type": "code",
   "execution_count": null,
   "id": "7c98b8da",
   "metadata": {},
   "outputs": [],
   "source": []
  },
  {
   "cell_type": "code",
   "execution_count": null,
   "id": "c7705572",
   "metadata": {},
   "outputs": [],
   "source": [
    "vaders = pd.DataFrame(res).T\n",
    "vaders = vaders.reset_index().rename(columns={'index': 'MsgID'})\n",
    "vaders = vaders.merge(df_prepro, how='left')"
   ]
  },
  {
   "cell_type": "code",
   "execution_count": null,
   "id": "ff94af2b",
   "metadata": {},
   "outputs": [],
   "source": [
    "vaders.head()"
   ]
  },
  {
   "cell_type": "code",
   "execution_count": null,
   "id": "78d06ee6",
   "metadata": {},
   "outputs": [],
   "source": [
    "sentiment_counts = pd.DataFrame({\n",
    "    'Sentiment': ['Negative', 'Neutral', 'Positive'],\n",
    "    'Count': [vaders['neg'].sum(), vaders['neu'].sum(), vaders['pos'].sum()]\n",
    "})\n",
    "print(sentiment_counts)"
   ]
  },
  {
   "cell_type": "code",
   "execution_count": null,
   "id": "0346722f",
   "metadata": {},
   "outputs": [],
   "source": [
    "plt.figure(figsize=(10, 6))\n",
    "sns.barplot(data=sentiment_counts, x='Sentiment', y='Count', palette='viridis')\n",
    "plt.title('Comparison of Negative, Neutral, and Positive Reviews')\n",
    "plt.xlabel('Sentiment')\n",
    "plt.ylabel('Number of Reviews')\n",
    "plt.xticks(rotation=45)  # Rotates labels to prevent overlap\n",
    "plt.show()"
   ]
  },
  {
   "cell_type": "code",
   "execution_count": null,
   "id": "1812189e",
   "metadata": {},
   "outputs": [],
   "source": [
    "MODEL = f\"cardiffnlp/twitter-roberta-base-sentiment\"\n",
    "tokenizer = AutoTokenizer.from_pretrained(MODEL)\n",
    "model = AutoModelForSequenceClassification.from_pretrained(MODEL)\n"
   ]
  },
  {
   "cell_type": "code",
   "execution_count": null,
   "id": "8cdad8ec",
   "metadata": {},
   "outputs": [],
   "source": [
    "# print(example)\n",
    "# sia.polarity_scores(example)"
   ]
  },
  {
   "cell_type": "code",
   "execution_count": null,
   "id": "d1f732d0",
   "metadata": {},
   "outputs": [],
   "source": [
    "# Run for Roberta Model\n",
    "def polarity_scores_roberta(example):\n",
    "    encoded_text = tokenizer(example, return_tensors='pt')\n",
    "    output = model(**encoded_text)\n",
    "    scores = output[0][0].detach().numpy()\n",
    "    scores = softmax(scores)\n",
    "    scores_dict = {\n",
    "        'roberta_neg' : scores[0],\n",
    "        'roberta_neu' : scores[1],\n",
    "        'roberta_pos' : scores[2]\n",
    "    }\n",
    "    return scores_dict"
   ]
  },
  {
   "cell_type": "code",
   "execution_count": null,
   "id": "de378a37",
   "metadata": {},
   "outputs": [],
   "source": [
    "res = {}\n",
    "for i, row in tqdm(df_prepro.iterrows(), total=len(df_prepro)):\n",
    "    try:\n",
    "        text = row['MsgBody']\n",
    "        myid = row['MsgID']\n",
    "        vader_result = sia.polarity_scores(text)\n",
    "        vader_result_rename = {}\n",
    "        for key, value in vader_result.items():\n",
    "            vader_result_rename[f\"vader_{key}\"] = value\n",
    "        roberta_result = polarity_scores_roberta(text)\n",
    "        both = {**vader_result_rename, **roberta_result}\n",
    "        res[myid] = both\n",
    "    except RuntimeError:\n",
    "        print(f'Broke for id {myid}')"
   ]
  },
  {
   "cell_type": "code",
   "execution_count": null,
   "id": "50069415",
   "metadata": {},
   "outputs": [],
   "source": [
    "results_df = pd.DataFrame(res).T\n",
    "results_df = results_df.reset_index().rename(columns={'index': 'MsgID'})\n",
    "results_df = results_df.merge(df_prepro, how='left')"
   ]
  },
  {
   "cell_type": "code",
   "execution_count": null,
   "id": "8fcdd98a",
   "metadata": {},
   "outputs": [],
   "source": [
    "# Define a function to categorize sentiment scores\n",
    "def categorize_sentiment(score):\n",
    "    if score < -0.05:  # Thresholds can be adjusted based on desired sensitivity\n",
    "        return 'Negative'\n",
    "    elif score > 0.05:\n",
    "        return 'Positive'\n",
    "    else:\n",
    "        return 'Neutral'\n",
    "    \n",
    "# Apply the function to VADER and RoBERTa scores\n",
    "results_df['vader_sentiment'] = results_df['vader_compound'].apply(categorize_sentiment)\n",
    "results_df['roberta_sentiment'] = results_df.apply(lambda x: 'Positive' if x['roberta_pos'] > max(x['roberta_neg'], x['roberta_neu']) else \n",
    "                                                    ('Negative' if x['roberta_neg'] > max(x['roberta_pos'], x['roberta_neu']) else 'Neutral'), axis=1)"
   ]
  },
  {
   "cell_type": "code",
   "execution_count": null,
   "id": "7ba1cf77",
   "metadata": {
    "scrolled": true
   },
   "outputs": [],
   "source": [
    "results_df.columns"
   ]
  },
  {
   "cell_type": "code",
   "execution_count": null,
   "id": "b1ec43f2",
   "metadata": {},
   "outputs": [],
   "source": [
    "results_df.head()"
   ]
  },
  {
   "cell_type": "code",
   "execution_count": null,
   "id": "109bbac2",
   "metadata": {},
   "outputs": [],
   "source": [
    "\n",
    "results_df.to_csv(file_name + '_with_Sentiments.csv', index=False)"
   ]
  },
  {
   "cell_type": "code",
   "execution_count": null,
   "id": "ee3122b2",
   "metadata": {
    "scrolled": true
   },
   "outputs": [],
   "source": [
    "import matplotlib.pyplot as plt\n",
    "\n",
    "# Calculating average sentiment scores for both VADER and RoBERTa\n",
    "avg_scores = pd.DataFrame({\n",
    "    'Sentiment Type': ['VADER', 'VADER', 'VADER', 'RoBERTa', 'RoBERTa', 'RoBERTa'],\n",
    "    'Sentiment': ['Negative', 'Neutral', 'Positive']*2,\n",
    "    'Score': [\n",
    "        results_df['vader_neg'].mean(), \n",
    "        results_df['vader_neu'].mean(), \n",
    "        results_df['vader_pos'].mean(),\n",
    "        results_df['roberta_neg'].mean(),\n",
    "        results_df['roberta_neu'].mean(),\n",
    "        results_df['roberta_pos'].mean()\n",
    "    ]\n",
    "})\n",
    "\n",
    "# Plotting the comparison\n",
    "plt.figure(figsize=(12, 8))\n",
    "sns.barplot(x='Sentiment', y='Score', hue='Sentiment Type', data=avg_scores, palette='viridis')\n",
    "plt.title('Comparison of Average Sentiment Scores: VADER vs. RoBERTa')\n",
    "plt.xlabel('Sentiment Category')\n",
    "plt.ylabel('Average Score')\n",
    "plt.legend(title='Model')\n",
    "plt.xticks(rotation=45)\n",
    "plt.show()"
   ]
  },
  {
   "cell_type": "code",
   "execution_count": null,
   "id": "aa00d064",
   "metadata": {},
   "outputs": [],
   "source": [
    "plt.figure(figsize=(8, 4))\n",
    "sns.countplot(data=results_df, x='vader_sentiment')\n",
    "plt.title('Distribution of VADER Sentiment Categories')\n",
    "plt.savefig('vader_sentiment_distribution.png')\n",
    "plt.show()\n",
    "\n",
    "# Sentiment Distribution Plot for RoBERTa\n",
    "plt.figure(figsize=(8, 4))\n",
    "sns.countplot(data=results_df, x='roberta_sentiment')\n",
    "plt.title('Distribution of RoBERTa Sentiment Categories')\n",
    "plt.savefig('roberta_sentiment_distribution.png')\n",
    "plt.show()\n",
    "\n",
    "# Assuming 'results_df' has a 'MsgBody' column for the text content\n",
    "results_df['tokens'] = results_df['MsgBody'].apply(word_tokenize)\n",
    "results_df_explode = results_df.explode('tokens')\n",
    "\n",
    "# Word Frequency by RoBERTa Sentiment\n",
    "plt.figure(figsize=(10, 6))\n",
    "sns.countplot(data=results_df_explode, x='tokens', hue='roberta_sentiment', order=results_df_explode['tokens'].value_counts().iloc[:10].index)\n",
    "plt.title('Top 10 words by RoBERTa Sentiment Category')\n",
    "plt.xticks(rotation=45)\n",
    "plt.savefig('word_frequency_by_roberta_sentiment.png')\n",
    "plt.show()\n",
    "\n",
    "# Sentiment Scores Distribution for VADER Compound\n",
    "plt.figure(figsize=(8, 4))\n",
    "sns.histplot(data=results_df, x='vader_compound', kde=True, hue='vader_sentiment')\n",
    "plt.title('Distribution of VADER Compound Scores')\n",
    "plt.savefig('vader_compound_scores_distribution.png')\n",
    "plt.show()\n",
    "\n",
    "# Box Plot of RoBERTa Sentiment Scores by Category (using 'roberta_pos' as a proxy for positive sentiment score)\n",
    "plt.figure(figsize=(8, 4))\n",
    "sns.boxplot(data=results_df, x='roberta_sentiment', y='roberta_pos')\n",
    "plt.title('RoBERTa Positive Sentiment Score by Category')\n",
    "plt.savefig('roberta_pos_scores_by_category.png')\n",
    "plt.show()"
   ]
  },
  {
   "cell_type": "code",
   "execution_count": null,
   "id": "62b2ba06",
   "metadata": {},
   "outputs": [],
   "source": [
    "# Create 3 separate dataframes each containing all the Roberts scored Positive, neuaral, and negative comments.\n",
    "\n",
    "positive_df = results_df[results_df['roberta_sentiment'] == 'Positive'][['MsgID', 'MsgBody', 'roberta_sentiment']]\n",
    "neutral_df = results_df[results_df['roberta_sentiment'] == 'Neutral'][['MsgID', 'MsgBody', 'roberta_sentiment']]\n",
    "negative_df = results_df[results_df['roberta_sentiment'] == 'Negative'][['MsgID', 'MsgBody', 'roberta_sentiment']]\n",
    "\n",
    "pos_df_name = file_name + '_Positive_Roberta.csv'\n",
    "neu_df_name = file_name + '_Neutral_Roberta.csv'\n",
    "neg_df_name = file_name + '_Negative_Roberta.csv'\n",
    "all_df_name = file_name + '_with_Sentiments.csv'\n",
    "\n",
    "positive_df.to_csv(pos_df_name, index=False)\n",
    "neutral_df.to_csv(neu_df_name, index=False)\n",
    "negative_df.to_csv(neg_df_name, index=False)\n",
    "\n",
    "csv_output_list = [pos_df_name, neu_df_name, neg_df_name, all_df_name]\n",
    "\n",
    "for i in csv_output_list:\n",
    "    runLDA(i)\n",
    "    "
   ]
  },
  {
   "cell_type": "code",
   "execution_count": null,
   "id": "58e28db2",
   "metadata": {},
   "outputs": [],
   "source": []
  }
 ],
 "metadata": {
  "kernelspec": {
   "display_name": "Python 3 (ipykernel)",
   "language": "python",
   "name": "python3"
  },
  "language_info": {
   "codemirror_mode": {
    "name": "ipython",
    "version": 3
   },
   "file_extension": ".py",
   "mimetype": "text/x-python",
   "name": "python",
   "nbconvert_exporter": "python",
   "pygments_lexer": "ipython3",
   "version": "3.11.5"
  }
 },
 "nbformat": 4,
 "nbformat_minor": 5
}
