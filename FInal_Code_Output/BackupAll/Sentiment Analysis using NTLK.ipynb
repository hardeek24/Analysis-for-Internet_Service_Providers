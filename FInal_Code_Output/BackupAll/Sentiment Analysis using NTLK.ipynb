{
 "cells": [
  {
   "cell_type": "code",
   "execution_count": 1,
   "id": "89b00ffb",
   "metadata": {},
   "outputs": [
    {
     "name": "stderr",
     "output_type": "stream",
     "text": [
      "[nltk_data] Downloading package averaged_perceptron_tagger to\n",
      "[nltk_data]     C:\\Users\\devio\\AppData\\Roaming\\nltk_data...\n",
      "[nltk_data]   Package averaged_perceptron_tagger is already up-to-\n",
      "[nltk_data]       date!\n",
      "[nltk_data] Downloading package maxent_ne_chunker to\n",
      "[nltk_data]     C:\\Users\\devio\\AppData\\Roaming\\nltk_data...\n",
      "[nltk_data]   Package maxent_ne_chunker is already up-to-date!\n",
      "[nltk_data] Downloading package words to\n",
      "[nltk_data]     C:\\Users\\devio\\AppData\\Roaming\\nltk_data...\n",
      "[nltk_data]   Package words is already up-to-date!\n",
      "[nltk_data] Downloading package vader_lexicon to\n",
      "[nltk_data]     C:\\Users\\devio\\AppData\\Roaming\\nltk_data...\n",
      "[nltk_data]   Package vader_lexicon is already up-to-date!\n"
     ]
    },
    {
     "data": {
      "text/plain": [
       "True"
      ]
     },
     "execution_count": 1,
     "metadata": {},
     "output_type": "execute_result"
    }
   ],
   "source": [
    "import pandas as pd\n",
    "import numpy as np\n",
    "import matplotlib.pyplot as plt\n",
    "import seaborn as sns\n",
    "\n",
    "plt.style.use('ggplot')\n",
    "\n",
    "import nltk\n",
    "nltk.download('averaged_perceptron_tagger')\n",
    "nltk.download('maxent_ne_chunker')\n",
    "nltk.download('words')\n",
    "nltk.download('vader_lexicon')"
   ]
  },
  {
   "cell_type": "code",
   "execution_count": 2,
   "id": "b4396f95",
   "metadata": {},
   "outputs": [
    {
     "name": "stdout",
     "output_type": "stream",
     "text": [
      "(413, 8)\n"
     ]
    }
   ],
   "source": [
    "# Read in data\n",
    "df = pd.read_csv('TMobileISP.csv')\n",
    "print(df.shape)\n"
   ]
  },
  {
   "cell_type": "code",
   "execution_count": 3,
   "id": "1c045db2",
   "metadata": {},
   "outputs": [
    {
     "data": {
      "text/html": [
       "<div>\n",
       "<style scoped>\n",
       "    .dataframe tbody tr th:only-of-type {\n",
       "        vertical-align: middle;\n",
       "    }\n",
       "\n",
       "    .dataframe tbody tr th {\n",
       "        vertical-align: top;\n",
       "    }\n",
       "\n",
       "    .dataframe thead th {\n",
       "        text-align: right;\n",
       "    }\n",
       "</style>\n",
       "<table border=\"1\" class=\"dataframe\">\n",
       "  <thead>\n",
       "    <tr style=\"text-align: right;\">\n",
       "      <th></th>\n",
       "      <th>MsgID</th>\n",
       "      <th>Timestamp</th>\n",
       "      <th>Author</th>\n",
       "      <th>ThreadID</th>\n",
       "      <th>ThreadTitle</th>\n",
       "      <th>MsgBody</th>\n",
       "      <th>ReplyTo</th>\n",
       "      <th>Permalink</th>\n",
       "    </tr>\n",
       "  </thead>\n",
       "  <tbody>\n",
       "    <tr>\n",
       "      <th>0</th>\n",
       "      <td>'kxey1bk'</td>\n",
       "      <td>'2024-03-31 09:20:07'</td>\n",
       "      <td>'Outrageous-Bee4035'</td>\n",
       "      <td>'1bs9eqt'</td>\n",
       "      <td>'MLB Blackout'</td>\n",
       "      <td>'100%. Good thing we get MLBtv for free. Id he...</td>\n",
       "      <td>'kxextmg'</td>\n",
       "      <td>'/r/tmobileisp/comments/1bs9eqt/mlb_blackout/k...</td>\n",
       "    </tr>\n",
       "    <tr>\n",
       "      <th>1</th>\n",
       "      <td>'kxey8c0'</td>\n",
       "      <td>'2024-03-31 09:21:16'</td>\n",
       "      <td>'XxAlphaDonkeyxX'</td>\n",
       "      <td>'1bs9eqt'</td>\n",
       "      <td>'MLB Blackout'</td>\n",
       "      <td>'Oh for sure. That would be a scam'</td>\n",
       "      <td>'kxey1bk'</td>\n",
       "      <td>'/r/tmobileisp/comments/1bs9eqt/mlb_blackout/k...</td>\n",
       "    </tr>\n",
       "    <tr>\n",
       "      <th>2</th>\n",
       "      <td>'kxf1zik'</td>\n",
       "      <td>'2024-03-31 09:43:45'</td>\n",
       "      <td>'Slepprock'</td>\n",
       "      <td>'1brvhto'</td>\n",
       "      <td>'Port forwarding with my own router '</td>\n",
       "      <td>'The CGNAT is probably the worst drawback of T...</td>\n",
       "      <td>'kxbpw7x'</td>\n",
       "      <td>'/r/tmobileisp/comments/1brvhto/port_forwardin...</td>\n",
       "    </tr>\n",
       "    <tr>\n",
       "      <th>3</th>\n",
       "      <td>'kxf2qaq'</td>\n",
       "      <td>'2024-03-31 09:48:12'</td>\n",
       "      <td>'rd1_vonn'</td>\n",
       "      <td>'1brvhto'</td>\n",
       "      <td>'Port forwarding with my own router '</td>\n",
       "      <td>'Sadly it really is my only option we used to ...</td>\n",
       "      <td>'kxf1zik'</td>\n",
       "      <td>'/r/tmobileisp/comments/1brvhto/port_forwardin...</td>\n",
       "    </tr>\n",
       "    <tr>\n",
       "      <th>4</th>\n",
       "      <td>'kxf327n'</td>\n",
       "      <td>'2024-03-31 09:50:13'</td>\n",
       "      <td>'Slepprock'</td>\n",
       "      <td>'1brvhto'</td>\n",
       "      <td>'Port forwarding with my own router '</td>\n",
       "      <td>'1984?    In 1984 nobody had internet at home....</td>\n",
       "      <td>'kxbobfn'</td>\n",
       "      <td>'/r/tmobileisp/comments/1brvhto/port_forwardin...</td>\n",
       "    </tr>\n",
       "  </tbody>\n",
       "</table>\n",
       "</div>"
      ],
      "text/plain": [
       "       MsgID              Timestamp                Author   ThreadID  \\\n",
       "0  'kxey1bk'  '2024-03-31 09:20:07'  'Outrageous-Bee4035'  '1bs9eqt'   \n",
       "1  'kxey8c0'  '2024-03-31 09:21:16'     'XxAlphaDonkeyxX'  '1bs9eqt'   \n",
       "2  'kxf1zik'  '2024-03-31 09:43:45'           'Slepprock'  '1brvhto'   \n",
       "3  'kxf2qaq'  '2024-03-31 09:48:12'            'rd1_vonn'  '1brvhto'   \n",
       "4  'kxf327n'  '2024-03-31 09:50:13'           'Slepprock'  '1brvhto'   \n",
       "\n",
       "                             ThreadTitle  \\\n",
       "0                         'MLB Blackout'   \n",
       "1                         'MLB Blackout'   \n",
       "2  'Port forwarding with my own router '   \n",
       "3  'Port forwarding with my own router '   \n",
       "4  'Port forwarding with my own router '   \n",
       "\n",
       "                                             MsgBody    ReplyTo  \\\n",
       "0  '100%. Good thing we get MLBtv for free. Id he...  'kxextmg'   \n",
       "1                'Oh for sure. That would be a scam'  'kxey1bk'   \n",
       "2  'The CGNAT is probably the worst drawback of T...  'kxbpw7x'   \n",
       "3  'Sadly it really is my only option we used to ...  'kxf1zik'   \n",
       "4  '1984?    In 1984 nobody had internet at home....  'kxbobfn'   \n",
       "\n",
       "                                           Permalink  \n",
       "0  '/r/tmobileisp/comments/1bs9eqt/mlb_blackout/k...  \n",
       "1  '/r/tmobileisp/comments/1bs9eqt/mlb_blackout/k...  \n",
       "2  '/r/tmobileisp/comments/1brvhto/port_forwardin...  \n",
       "3  '/r/tmobileisp/comments/1brvhto/port_forwardin...  \n",
       "4  '/r/tmobileisp/comments/1brvhto/port_forwardin...  "
      ]
     },
     "execution_count": 3,
     "metadata": {},
     "output_type": "execute_result"
    }
   ],
   "source": [
    "df.head()"
   ]
  },
  {
   "cell_type": "code",
   "execution_count": 4,
   "id": "c387d2ff",
   "metadata": {},
   "outputs": [
    {
     "name": "stdout",
     "output_type": "stream",
     "text": [
      "'I see. Add that to the list of reasons I wont switch to iPhone. I have a work iPhone and I get annoyed with it.'\n"
     ]
    }
   ],
   "source": [
    "example = df['MsgBody'][52]\n",
    "print(example)"
   ]
  },
  {
   "cell_type": "code",
   "execution_count": 5,
   "id": "793fb7b7",
   "metadata": {},
   "outputs": [
    {
     "data": {
      "text/plain": [
       "[\"'\", 'I', 'see', '.', 'Add', 'that', 'to', 'the', 'list', 'of']"
      ]
     },
     "execution_count": 5,
     "metadata": {},
     "output_type": "execute_result"
    }
   ],
   "source": [
    "tokens = nltk.word_tokenize(example)\n",
    "tokens[:10]"
   ]
  },
  {
   "cell_type": "code",
   "execution_count": 6,
   "id": "93a29ac8",
   "metadata": {},
   "outputs": [
    {
     "data": {
      "text/plain": [
       "[(\"'\", 'POS'),\n",
       " ('I', 'PRP'),\n",
       " ('see', 'VBP'),\n",
       " ('.', '.'),\n",
       " ('Add', 'VB'),\n",
       " ('that', 'IN'),\n",
       " ('to', 'TO'),\n",
       " ('the', 'DT'),\n",
       " ('list', 'NN'),\n",
       " ('of', 'IN')]"
      ]
     },
     "execution_count": 6,
     "metadata": {},
     "output_type": "execute_result"
    }
   ],
   "source": [
    "tagged = nltk.pos_tag(tokens)\n",
    "tagged[:10]"
   ]
  },
  {
   "cell_type": "code",
   "execution_count": 7,
   "id": "1016703d",
   "metadata": {},
   "outputs": [
    {
     "name": "stdout",
     "output_type": "stream",
     "text": [
      "(S\n",
      "  '/POS\n",
      "  I/PRP\n",
      "  see/VBP\n",
      "  ./.\n",
      "  Add/VB\n",
      "  that/IN\n",
      "  to/TO\n",
      "  the/DT\n",
      "  list/NN\n",
      "  of/IN\n",
      "  reasons/NNS\n",
      "  I/PRP\n",
      "  wont/VBP\n",
      "  switch/VB\n",
      "  to/TO\n",
      "  iPhone/VB\n",
      "  ./.\n",
      "  I/PRP\n",
      "  have/VBP\n",
      "  a/DT\n",
      "  work/NN\n",
      "  (ORGANIZATION iPhone/NN)\n",
      "  and/CC\n",
      "  I/PRP\n",
      "  get/VBP\n",
      "  annoyed/VBN\n",
      "  with/IN\n",
      "  it/PRP\n",
      "  ./.\n",
      "  '/'')\n"
     ]
    }
   ],
   "source": [
    "entities = nltk.chunk.ne_chunk(tagged)\n",
    "entities.pprint()"
   ]
  },
  {
   "cell_type": "code",
   "execution_count": 8,
   "id": "45cd0035",
   "metadata": {},
   "outputs": [],
   "source": [
    "from nltk.sentiment import SentimentIntensityAnalyzer\n",
    "from tqdm.notebook import tqdm\n",
    "\n",
    "sia = SentimentIntensityAnalyzer()"
   ]
  },
  {
   "cell_type": "code",
   "execution_count": 9,
   "id": "3e7c0017",
   "metadata": {},
   "outputs": [
    {
     "data": {
      "text/plain": [
       "{'neg': 0.0, 'neu': 0.318, 'pos': 0.682, 'compound': 0.6468}"
      ]
     },
     "execution_count": 9,
     "metadata": {},
     "output_type": "execute_result"
    }
   ],
   "source": [
    "sia.polarity_scores('I am so happy!')"
   ]
  },
  {
   "cell_type": "code",
   "execution_count": 10,
   "id": "7bbe5b5a",
   "metadata": {},
   "outputs": [
    {
     "data": {
      "text/plain": [
       "{'neg': 0.451, 'neu': 0.549, 'pos': 0.0, 'compound': -0.6249}"
      ]
     },
     "execution_count": 10,
     "metadata": {},
     "output_type": "execute_result"
    }
   ],
   "source": [
    "sia.polarity_scores('This is the worst thing ever.')"
   ]
  },
  {
   "cell_type": "code",
   "execution_count": 11,
   "id": "0e95c1bd",
   "metadata": {},
   "outputs": [
    {
     "data": {
      "text/plain": [
       "{'neg': 0.115, 'neu': 0.885, 'pos': 0.0, 'compound': -0.3818}"
      ]
     },
     "execution_count": 11,
     "metadata": {},
     "output_type": "execute_result"
    }
   ],
   "source": [
    "sia.polarity_scores(example)"
   ]
  },
  {
   "cell_type": "code",
   "execution_count": 12,
   "id": "7c057a8d",
   "metadata": {},
   "outputs": [
    {
     "data": {
      "application/vnd.jupyter.widget-view+json": {
       "model_id": "ffd710293cd04a1ba5be351074e22261",
       "version_major": 2,
       "version_minor": 0
      },
      "text/plain": [
       "  0%|          | 0/413 [00:00<?, ?it/s]"
      ]
     },
     "metadata": {},
     "output_type": "display_data"
    }
   ],
   "source": [
    "res = {}\n",
    "for i, row in tqdm(df.iterrows(), total=len(df)):\n",
    "    text = row['MsgBody']\n",
    "    myid = row['MsgID']\n",
    "    res[myid] = sia.polarity_scores(text)"
   ]
  },
  {
   "cell_type": "code",
   "execution_count": 13,
   "id": "7c98b8da",
   "metadata": {},
   "outputs": [
    {
     "name": "stdout",
     "output_type": "stream",
     "text": [
      "Index(['MsgID', ' Timestamp', 'Author', 'ThreadID', 'ThreadTitle', 'MsgBody',\n",
      "       'ReplyTo', 'Permalink'],\n",
      "      dtype='object')\n"
     ]
    }
   ],
   "source": [
    "print(df.columns)"
   ]
  },
  {
   "cell_type": "code",
   "execution_count": 14,
   "id": "c7705572",
   "metadata": {},
   "outputs": [],
   "source": [
    "vaders = pd.DataFrame(res).T\n",
    "vaders = vaders.reset_index().rename(columns={'index': 'MsgID'})\n",
    "vaders = vaders.merge(df, how='left')"
   ]
  },
  {
   "cell_type": "code",
   "execution_count": 15,
   "id": "ff94af2b",
   "metadata": {},
   "outputs": [
    {
     "data": {
      "text/html": [
       "<div>\n",
       "<style scoped>\n",
       "    .dataframe tbody tr th:only-of-type {\n",
       "        vertical-align: middle;\n",
       "    }\n",
       "\n",
       "    .dataframe tbody tr th {\n",
       "        vertical-align: top;\n",
       "    }\n",
       "\n",
       "    .dataframe thead th {\n",
       "        text-align: right;\n",
       "    }\n",
       "</style>\n",
       "<table border=\"1\" class=\"dataframe\">\n",
       "  <thead>\n",
       "    <tr style=\"text-align: right;\">\n",
       "      <th></th>\n",
       "      <th>MsgID</th>\n",
       "      <th>neg</th>\n",
       "      <th>neu</th>\n",
       "      <th>pos</th>\n",
       "      <th>compound</th>\n",
       "      <th>Timestamp</th>\n",
       "      <th>Author</th>\n",
       "      <th>ThreadID</th>\n",
       "      <th>ThreadTitle</th>\n",
       "      <th>MsgBody</th>\n",
       "      <th>ReplyTo</th>\n",
       "      <th>Permalink</th>\n",
       "    </tr>\n",
       "  </thead>\n",
       "  <tbody>\n",
       "    <tr>\n",
       "      <th>0</th>\n",
       "      <td>'kxey1bk'</td>\n",
       "      <td>0.126</td>\n",
       "      <td>0.650</td>\n",
       "      <td>0.224</td>\n",
       "      <td>0.4019</td>\n",
       "      <td>'2024-03-31 09:20:07'</td>\n",
       "      <td>'Outrageous-Bee4035'</td>\n",
       "      <td>'1bs9eqt'</td>\n",
       "      <td>'MLB Blackout'</td>\n",
       "      <td>'100%. Good thing we get MLBtv for free. Id he...</td>\n",
       "      <td>'kxextmg'</td>\n",
       "      <td>'/r/tmobileisp/comments/1bs9eqt/mlb_blackout/k...</td>\n",
       "    </tr>\n",
       "    <tr>\n",
       "      <th>1</th>\n",
       "      <td>'kxey8c0'</td>\n",
       "      <td>0.336</td>\n",
       "      <td>0.455</td>\n",
       "      <td>0.209</td>\n",
       "      <td>-0.3400</td>\n",
       "      <td>'2024-03-31 09:21:16'</td>\n",
       "      <td>'XxAlphaDonkeyxX'</td>\n",
       "      <td>'1bs9eqt'</td>\n",
       "      <td>'MLB Blackout'</td>\n",
       "      <td>'Oh for sure. That would be a scam'</td>\n",
       "      <td>'kxey1bk'</td>\n",
       "      <td>'/r/tmobileisp/comments/1bs9eqt/mlb_blackout/k...</td>\n",
       "    </tr>\n",
       "    <tr>\n",
       "      <th>2</th>\n",
       "      <td>'kxf1zik'</td>\n",
       "      <td>0.098</td>\n",
       "      <td>0.810</td>\n",
       "      <td>0.092</td>\n",
       "      <td>-0.1389</td>\n",
       "      <td>'2024-03-31 09:43:45'</td>\n",
       "      <td>'Slepprock'</td>\n",
       "      <td>'1brvhto'</td>\n",
       "      <td>'Port forwarding with my own router '</td>\n",
       "      <td>'The CGNAT is probably the worst drawback of T...</td>\n",
       "      <td>'kxbpw7x'</td>\n",
       "      <td>'/r/tmobileisp/comments/1brvhto/port_forwardin...</td>\n",
       "    </tr>\n",
       "    <tr>\n",
       "      <th>3</th>\n",
       "      <td>'kxf2qaq'</td>\n",
       "      <td>0.071</td>\n",
       "      <td>0.858</td>\n",
       "      <td>0.071</td>\n",
       "      <td>0.0000</td>\n",
       "      <td>'2024-03-31 09:48:12'</td>\n",
       "      <td>'rd1_vonn'</td>\n",
       "      <td>'1brvhto'</td>\n",
       "      <td>'Port forwarding with my own router '</td>\n",
       "      <td>'Sadly it really is my only option we used to ...</td>\n",
       "      <td>'kxf1zik'</td>\n",
       "      <td>'/r/tmobileisp/comments/1brvhto/port_forwardin...</td>\n",
       "    </tr>\n",
       "    <tr>\n",
       "      <th>4</th>\n",
       "      <td>'kxf327n'</td>\n",
       "      <td>0.035</td>\n",
       "      <td>0.851</td>\n",
       "      <td>0.114</td>\n",
       "      <td>0.9541</td>\n",
       "      <td>'2024-03-31 09:50:13'</td>\n",
       "      <td>'Slepprock'</td>\n",
       "      <td>'1brvhto'</td>\n",
       "      <td>'Port forwarding with my own router '</td>\n",
       "      <td>'1984?    In 1984 nobody had internet at home....</td>\n",
       "      <td>'kxbobfn'</td>\n",
       "      <td>'/r/tmobileisp/comments/1brvhto/port_forwardin...</td>\n",
       "    </tr>\n",
       "  </tbody>\n",
       "</table>\n",
       "</div>"
      ],
      "text/plain": [
       "       MsgID    neg    neu    pos  compound              Timestamp  \\\n",
       "0  'kxey1bk'  0.126  0.650  0.224    0.4019  '2024-03-31 09:20:07'   \n",
       "1  'kxey8c0'  0.336  0.455  0.209   -0.3400  '2024-03-31 09:21:16'   \n",
       "2  'kxf1zik'  0.098  0.810  0.092   -0.1389  '2024-03-31 09:43:45'   \n",
       "3  'kxf2qaq'  0.071  0.858  0.071    0.0000  '2024-03-31 09:48:12'   \n",
       "4  'kxf327n'  0.035  0.851  0.114    0.9541  '2024-03-31 09:50:13'   \n",
       "\n",
       "                 Author   ThreadID                            ThreadTitle  \\\n",
       "0  'Outrageous-Bee4035'  '1bs9eqt'                         'MLB Blackout'   \n",
       "1     'XxAlphaDonkeyxX'  '1bs9eqt'                         'MLB Blackout'   \n",
       "2           'Slepprock'  '1brvhto'  'Port forwarding with my own router '   \n",
       "3            'rd1_vonn'  '1brvhto'  'Port forwarding with my own router '   \n",
       "4           'Slepprock'  '1brvhto'  'Port forwarding with my own router '   \n",
       "\n",
       "                                             MsgBody    ReplyTo  \\\n",
       "0  '100%. Good thing we get MLBtv for free. Id he...  'kxextmg'   \n",
       "1                'Oh for sure. That would be a scam'  'kxey1bk'   \n",
       "2  'The CGNAT is probably the worst drawback of T...  'kxbpw7x'   \n",
       "3  'Sadly it really is my only option we used to ...  'kxf1zik'   \n",
       "4  '1984?    In 1984 nobody had internet at home....  'kxbobfn'   \n",
       "\n",
       "                                           Permalink  \n",
       "0  '/r/tmobileisp/comments/1bs9eqt/mlb_blackout/k...  \n",
       "1  '/r/tmobileisp/comments/1bs9eqt/mlb_blackout/k...  \n",
       "2  '/r/tmobileisp/comments/1brvhto/port_forwardin...  \n",
       "3  '/r/tmobileisp/comments/1brvhto/port_forwardin...  \n",
       "4  '/r/tmobileisp/comments/1brvhto/port_forwardin...  "
      ]
     },
     "execution_count": 15,
     "metadata": {},
     "output_type": "execute_result"
    }
   ],
   "source": [
    "vaders.head()"
   ]
  },
  {
   "cell_type": "code",
   "execution_count": 32,
   "id": "78d06ee6",
   "metadata": {},
   "outputs": [
    {
     "name": "stdout",
     "output_type": "stream",
     "text": [
      "  Sentiment    Count\n",
      "0  Negative   18.508\n",
      "1   Neutral  356.169\n",
      "2  Positive   38.318\n"
     ]
    }
   ],
   "source": [
    "sentiment_counts = pd.DataFrame({\n",
    "    'Sentiment': ['Negative', 'Neutral', 'Positive'],\n",
    "    'Count': [vaders['neg'].sum(), vaders['neu'].sum(), vaders['pos'].sum()]\n",
    "})\n",
    "print(sentiment_counts)"
   ]
  },
  {
   "cell_type": "code",
   "execution_count": 17,
   "id": "0346722f",
   "metadata": {},
   "outputs": [
    {
     "data": {
      "image/png": "[encoded data removed]",
      "text/plain": [
       "<Figure size 1000x600 with 1 Axes>"
      ]
     },
     "metadata": {},
     "output_type": "display_data"
    }
   ],
   "source": [
    "plt.figure(figsize=(10, 6))\n",
    "sns.barplot(data=sentiment_counts, x='Sentiment', y='Count', palette='viridis')\n",
    "plt.title('Comparison of Negative, Neutral, and Positive Reviews')\n",
    "plt.xlabel('Sentiment')\n",
    "plt.ylabel('Number of Reviews')\n",
    "plt.xticks(rotation=45)  # Rotates labels to prevent overlap\n",
    "plt.show()"
   ]
  },
  {
   "cell_type": "code",
   "execution_count": 18,
   "id": "1dfa1eb6",
   "metadata": {},
   "outputs": [],
   "source": [
    "from transformers import AutoTokenizer\n",
    "from transformers import AutoModelForSequenceClassification\n",
    "from scipy.special import softmax"
   ]
  },
  {
   "cell_type": "code",
   "execution_count": 19,
   "id": "1812189e",
   "metadata": {},
   "outputs": [
    {
     "name": "stderr",
     "output_type": "stream",
     "text": [
      "C:\\Users\\devio\\anaconda3\\Lib\\site-packages\\transformers\\utils\\generic.py:260: UserWarning: torch.utils._pytree._register_pytree_node is deprecated. Please use torch.utils._pytree.register_pytree_node instead.\n",
      "  torch.utils._pytree._register_pytree_node(\n"
     ]
    }
   ],
   "source": [
    "MODEL = f\"cardiffnlp/twitter-roberta-base-sentiment\"\n",
    "tokenizer = AutoTokenizer.from_pretrained(MODEL)\n",
    "model = AutoModelForSequenceClassification.from_pretrained(MODEL)\n"
   ]
  },
  {
   "cell_type": "code",
   "execution_count": 20,
   "id": "8cdad8ec",
   "metadata": {},
   "outputs": [
    {
     "name": "stdout",
     "output_type": "stream",
     "text": [
      "'I see. Add that to the list of reasons I wont switch to iPhone. I have a work iPhone and I get annoyed with it.'\n"
     ]
    },
    {
     "data": {
      "text/plain": [
       "{'neg': 0.115, 'neu': 0.885, 'pos': 0.0, 'compound': -0.3818}"
      ]
     },
     "execution_count": 20,
     "metadata": {},
     "output_type": "execute_result"
    }
   ],
   "source": [
    "print(example)\n",
    "sia.polarity_scores(example)"
   ]
  },
  {
   "cell_type": "code",
   "execution_count": 21,
   "id": "d1f732d0",
   "metadata": {},
   "outputs": [],
   "source": [
    "# Run for Roberta Model\n",
    "def polarity_scores_roberta(example):\n",
    "    encoded_text = tokenizer(example, return_tensors='pt')\n",
    "    output = model(**encoded_text)\n",
    "    scores = output[0][0].detach().numpy()\n",
    "    scores = softmax(scores)\n",
    "    scores_dict = {\n",
    "        'roberta_neg' : scores[0],\n",
    "        'roberta_neu' : scores[1],\n",
    "        'roberta_pos' : scores[2]\n",
    "    }\n",
    "    return scores_dict"
   ]
  },
  {
   "cell_type": "code",
   "execution_count": null,
   "id": "786fee4f",
   "metadata": {},
   "outputs": [],
   "source": []
  },
  {
   "cell_type": "code",
   "execution_count": 22,
   "id": "de378a37",
   "metadata": {},
   "outputs": [
    {
     "data": {
      "application/vnd.jupyter.widget-view+json": {
       "model_id": "26f12ba8e632418bae150275d1ea964d",
       "version_major": 2,
       "version_minor": 0
      },
      "text/plain": [
       "  0%|          | 0/413 [00:00<?, ?it/s]"
      ]
     },
     "metadata": {},
     "output_type": "display_data"
    }
   ],
   "source": [
    "res = {}\n",
    "for i, row in tqdm(df.iterrows(), total=len(df)):\n",
    "    try:\n",
    "        text = row['MsgBody']\n",
    "        myid = row['MsgID']\n",
    "        vader_result = sia.polarity_scores(text)\n",
    "        vader_result_rename = {}\n",
    "        for key, value in vader_result.items():\n",
    "            vader_result_rename[f\"vader_{key}\"] = value\n",
    "        roberta_result = polarity_scores_roberta(text)\n",
    "        both = {**vader_result_rename, **roberta_result}\n",
    "        res[myid] = both\n",
    "    except RuntimeError:\n",
    "        print(f'Broke for id {myid}')"
   ]
  },
  {
   "cell_type": "code",
   "execution_count": 23,
   "id": "50069415",
   "metadata": {},
   "outputs": [],
   "source": [
    "results_df = pd.DataFrame(res).T\n",
    "results_df = results_df.reset_index().rename(columns={'index': 'MsgID'})\n",
    "results_df = results_df.merge(df, how='left')"
   ]
  },
  {
   "cell_type": "code",
   "execution_count": 24,
   "id": "7ba1cf77",
   "metadata": {},
   "outputs": [
    {
     "data": {
      "text/plain": [
       "Index(['MsgID', 'vader_neg', 'vader_neu', 'vader_pos', 'vader_compound',\n",
       "       'roberta_neg', 'roberta_neu', 'roberta_pos', ' Timestamp', 'Author',\n",
       "       'ThreadID', 'ThreadTitle', 'MsgBody', 'ReplyTo', 'Permalink'],\n",
       "      dtype='object')"
      ]
     },
     "execution_count": 24,
     "metadata": {},
     "output_type": "execute_result"
    }
   ],
   "source": [
    "results_df.columns"
   ]
  },
  {
   "cell_type": "code",
   "execution_count": 31,
   "id": "109bbac2",
   "metadata": {},
   "outputs": [],
   "source": [
    "results_df.head()\n",
    "results_df.to_csv('TMobileISP_with_Sentiments.csv', index=False)"
   ]
  },
  {
   "cell_type": "code",
   "execution_count": 26,
   "id": "ee3122b2",
   "metadata": {},
   "outputs": [
    {
     "data": {
      "image/png": "[encoded data removed]",
      "text/plain": [
       "<Figure size 1200x800 with 1 Axes>"
      ]
     },
     "metadata": {},
     "output_type": "display_data"
    }
   ],
   "source": [
    "# import matplotlib.pyplot as plt\n",
    "\n",
    "# # Calculating average sentiment scores for both VADER and RoBERTa\n",
    "# avg_scores = pd.DataFrame({\n",
    "#     'Sentiment Type': ['VADER', 'VADER', 'VADER', 'RoBERTa', 'RoBERTa', 'RoBERTa'],\n",
    "#     'Sentiment': ['Negative', 'Neutral', 'Positive']*2,\n",
    "#     'Score': [\n",
    "#         results_df['vader_neg'].mean(), \n",
    "#         results_df['vader_neu'].mean(), \n",
    "#         results_df['vader_pos'].mean(),\n",
    "#         results_df['roberta_neg'].mean(),\n",
    "#         results_df['roberta_neu'].mean(),\n",
    "#         results_df['roberta_pos'].mean()\n",
    "#     ]\n",
    "# })\n",
    "\n",
    "# # Plotting the comparison\n",
    "# plt.figure(figsize=(12, 8))\n",
    "# sns.barplot(x='Sentiment', y='Score', hue='Sentiment Type', data=avg_scores, palette='viridis')\n",
    "# plt.title('Comparison of Average Sentiment Scores: VADER vs. RoBERTa')\n",
    "# plt.xlabel('Sentiment Category')\n",
    "# plt.ylabel('Average Score')\n",
    "# plt.legend(title='Model')\n",
    "# plt.xticks(rotation=45)\n",
    "# plt.show()"
   ]
  },
  {
   "cell_type": "code",
   "execution_count": 27,
   "id": "5355b02d",
   "metadata": {},
   "outputs": [
    {
     "name": "stderr",
     "output_type": "stream",
     "text": [
      "No model was supplied, defaulted to distilbert-base-uncased-finetuned-sst-2-english and revision af0f99b (https://huggingface.co/distilbert-base-uncased-finetuned-sst-2-english).\n",
      "Using a pipeline without specifying a model name and revision in production is not recommended.\n",
      "C:\\Users\\devio\\anaconda3\\Lib\\site-packages\\transformers\\utils\\generic.py:260: UserWarning: torch.utils._pytree._register_pytree_node is deprecated. Please use torch.utils._pytree.register_pytree_node instead.\n",
      "  torch.utils._pytree._register_pytree_node(\n"
     ]
    }
   ],
   "source": [
    "# #Using Huggingface Pipeline - I have only tested this a bit\n",
    "\n",
    "# from transformers import pipeline\n",
    "\n",
    "# sent_pipeline = pipeline(\"sentiment-analysis\")"
   ]
  },
  {
   "cell_type": "code",
   "execution_count": 28,
   "id": "e7311b76",
   "metadata": {},
   "outputs": [],
   "source": [
    "# def apply_sentiment_analysis(text):\n",
    "#     try:\n",
    "#         # This will return a list of dictionaries with keys 'label' and 'score'\n",
    "#         return sent_pipeline(text)[0]\n",
    "#     except Exception as e:\n",
    "#         # Handle exceptions that could be raised by the transformers pipeline\n",
    "#         return {\"label\": \"Error\", \"score\": 0.0, \"error\": str(e)}\n",
    "\n",
    "# # Apply sentiment analysis to each row in the MsgBody column\n",
    "# df['Sentiment Analysis'] = df['MsgBody'].apply(apply_sentiment_analysis)\n",
    "\n",
    "# # Print the results\n",
    "# for index, row in df.iterrows():\n",
    "#     print(f\"Message: {row['MsgBody']}\")\n",
    "#     print(f\"Sentiment: {row['Sentiment Analysis']['label']}, Score: {row['Sentiment Analysis']['score']}\")\n",
    "#     print(\"--------------------------------------------------\")\n",
    "\n",
    "# # save the results to a new CSV file\n",
    "# df.to_csv('TMobileISP_with_Sentiments.csv', index=False)"
   ]
  },
  {
   "cell_type": "code",
   "execution_count": null,
   "id": "18b652a7",
   "metadata": {},
   "outputs": [],
   "source": []
  },
  {
   "cell_type": "code",
   "execution_count": 29,
   "id": "c0a14cf6",
   "metadata": {},
   "outputs": [],
   "source": [
    "# model_name = \"cardiffnlp/twitter-roberta-base-sentiment\"\n",
    "# roberta_sentiment = pipeline(\"sentiment-analysis\", model=model_name, tokenizer=model_name)\n",
    "\n",
    "\n",
    "\n",
    "# # Load the dataset\n",
    "# df = pd.read_csv('TMobileISP.csv')\n",
    "\n",
    "# # Define a function to apply sentiment analysis using RoBERTa\n",
    "# def apply_roberta_sentiment(text):\n",
    "#     try:\n",
    "#         # Apply the sentiment analysis model\n",
    "#         result = roberta_sentiment(text)\n",
    "#         return result[0]\n",
    "#     except Exception as e:\n",
    "#         # Handle exceptions, e.g., if the text is too long for the model\n",
    "#         return {\"label\": \"Neutral\", \"score\": 0.0, \"error\": str(e)}\n",
    "\n",
    "# # Apply the sentiment analysis function to the MsgBody column\n",
    "# df['Sentiment Result'] = df['MsgBody'].apply(apply_roberta_sentiment)\n",
    "\n",
    "# # Extract the sentiment labels and scores\n",
    "# df['Sentiment'] = df['Sentiment Result'].apply(lambda x: x['label'])\n",
    "# df['Score'] = df['Sentiment Result'].apply(lambda x: x['score'])\n",
    "\n",
    "# # Filter the DataFrame based on the sentiment labels\n",
    "# df_positive = df[df['Sentiment'].str.upper() == 'POSITIVE']\n",
    "# df_neutral = df[df['Sentiment'].str.upper() == 'NEUTRAL']\n",
    "# df_negative = df[df['Sentiment'].str.upper() == 'NEGATIVE']\n",
    "\n",
    "# # Save the filtered data to CSV files\n",
    "# df_positive.to_csv('Positive_Sentiments_RoBERTa.csv', index=False)\n",
    "# df_neutral.to_csv('Neutral_Sentiments_RoBERTa.csv', index=False)\n",
    "# df_negative.to_csv('Negative_Sentiments_RoBERTa.csv', index=False)\n",
    "\n",
    "# # Print out confirmation\n",
    "# print(\"Files saved: Positive_Sentiments_RoBERTa.csv, Neutral_Sentiments_RoBERTa.csv, Negative_Sentiments_RoBERTa.csv\")\n"
   ]
  },
  {
   "cell_type": "code",
   "execution_count": null,
   "id": "62b2ba06",
   "metadata": {},
   "outputs": [],
   "source": []
  }
 ],
 "metadata": {
  "kernelspec": {
   "display_name": "Python 3 (ipykernel)",
   "language": "python",
   "name": "python3"
  },
  "language_info": {
   "codemirror_mode": {
    "name": "ipython",
    "version": 3
   },
   "file_extension": ".py",
   "mimetype": "text/x-python",
   "name": "python",
   "nbconvert_exporter": "python",
   "pygments_lexer": "ipython3",
   "version": "3.11.5"
  }
 },
 "nbformat": 4,
 "nbformat_minor": 5
}
